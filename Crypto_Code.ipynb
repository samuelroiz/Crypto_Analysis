{
 "cells": [
  {
   "cell_type": "code",
   "execution_count": 155,
   "metadata": {},
   "outputs": [],
   "source": [
    "# Dependencies\n",
    "from census import Census\n",
    "# from config import (census_key, gkey, api_key)\n",
    "from config import (poly_key, nomics_key)\n",
    "import gmaps\n",
    "import numpy as np\n",
    "import pandas as pd\n",
    "import requests\n",
    "import json\n",
    "import time\n",
    "from scipy.stats import linregress\n",
    "from matplotlib import pyplot as plt\n",
    "import urllib.request"
   ]
  },
  {
   "cell_type": "markdown",
   "metadata": {},
   "source": [
    "### Polygon"
   ]
  },
  {
   "cell_type": "code",
   "execution_count": 156,
   "metadata": {},
   "outputs": [],
   "source": [
    "# Website url for api_key tools: https://polygon.io/docs/get_v3_reference_tickers_anchor\n",
    "# https://github.com/polygon-io/client-python example\n",
    "\n",
    "# url = f\"https://api.polygon.io/v2/aggs/ticker/AAPL/range/1/day/2020-06-01/2020-06-17?\n",
    "# query_url = url + \"apiKey=\" + poly_key + \"&q=\" + city\n",
    "\n",
    "# # Get polygon data\n",
    "# weather_response = requests.get(query_url)\n",
    "# weather_json = weather_response.json()\n",
    "\n",
    "# # Get the crypto from the response\n",
    "# print(f\"The crypto API responded with: {weather_json}.\")"
   ]
  },
  {
   "cell_type": "markdown",
   "metadata": {},
   "source": [
    "### Nomics"
   ]
  },
  {
   "cell_type": "markdown",
   "metadata": {},
   "source": [
    "#### History Url"
   ]
  },
  {
   "cell_type": "code",
   "execution_count": 157,
   "metadata": {},
   "outputs": [],
   "source": [
    "url_history_example = f\"https://api.nomics.com/v1/market-cap/history?key={nomics_key}&start=2018-04-14T00%3A00%3A00Z&end=2018-05-14T00%3A00%3A00Z\"\n",
    "url_history_2021 = f\"https://api.nomics.com/v1/market-cap/history?key={nomics_key}&start=2020-01-01T00%3A00%3A00Z&end=2020-02-01T00%3A00%3A00Z\"\n"
   ]
  },
  {
   "cell_type": "markdown",
   "metadata": {},
   "source": [
    "##### Pandemic Data History "
   ]
  },
  {
   "cell_type": "code",
   "execution_count": 158,
   "metadata": {},
   "outputs": [],
   "source": [
    "start_date = \"2020-01-01\"\n",
    "end_date = \"2021-10-31\"\n",
    "pandemic_url_history = f\"https://api.nomics.com/v1/market-cap/history?key={nomics_key}&start={start_date}T00%3A00%3A00Z&end={end_date}T00%3A00%3A00Z\"\n",
    "\n",
    "# text file to hold the data\n",
    "pandemic_all_data_file = open('pandemic_all_data_file.txt', 'w')\n",
    "pandemic_timestamp_file = open('pandemic_timestamp_file.txt', 'w')\n",
    "pandemic_market_cap_file = open('pandemic_market_cap_file.txt', 'w')\n"
   ]
  },
  {
   "cell_type": "code",
   "execution_count": 159,
   "metadata": {},
   "outputs": [
    {
     "name": "stdout",
     "output_type": "stream",
     "text": [
      "670\n"
     ]
    }
   ],
   "source": [
    "\n",
    "\n",
    "# link for history\n",
    "pandemic_url_history\n",
    "\n",
    "# recieve link and convert raw data to json\n",
    "response = requests.get(pandemic_url_history).json()\n",
    "\n",
    "# find out how many dicts are in the list\n",
    "number_of_dicts = len(response)\n",
    "print(number_of_dicts)\n",
    "\n",
    "# lists of list\n",
    "pandemic_timestamp = []\n",
    "pandemic_market_cap = []\n",
    "\n",
    "# we want to go each list... since we are doing by numbers, we will do the range of 0 to the amount in the url\n",
    "number_of_dicts = list(range(0, number_of_dicts))\n",
    "\n",
    "# for loop: x is going to become number_of_dicts each time...0, once it goes through the code then x changes to 1, repeat etc.\n",
    "for x in number_of_dicts:\n",
    "    timestamp_string = response[x]['timestamp']\n",
    "    new_timestamp_String = timestamp_string.replace('T00:00:00Z', '')\n",
    "    pandemic_timestamp.append(new_timestamp_String)\n",
    "    \n",
    "    \n",
    "    pandemic_market_cap.append(response[x]['market_cap'])\n",
    "    market_cap_string = response[x]['market_cap']\n",
    "\n",
    "    pandemic_all_data_file.write(f\"{new_timestamp_String}, {market_cap_string}\\n\")\n",
    "    pandemic_timestamp_file.write(f\"{new_timestamp_String}\\n\")\n",
    "    pandemic_market_cap_file.write(f\"{market_cap_string}\\n\")\n",
    "\n",
    "pandemic_all_data_file.close()\n",
    "pandemic_timestamp_file.close()\n",
    "pandemic_market_cap_file.close()\n"
   ]
  },
  {
   "cell_type": "code",
   "execution_count": 160,
   "metadata": {},
   "outputs": [
    {
     "data": {
      "text/plain": [
       "'2020-01-01'"
      ]
     },
     "execution_count": 160,
     "metadata": {},
     "output_type": "execute_result"
    }
   ],
   "source": [
    "pandemic_timestamp\n",
    "\n",
    "#You can remove a word from a string using str.replace ()\n",
    "myString = response[0]['timestamp']\n",
    "newString = myString.replace('T00:00:00Z', '')\n",
    "newString"
   ]
  },
  {
   "cell_type": "markdown",
   "metadata": {},
   "source": [
    "#### Overall of the whole Market from start to Oct. 31st 2021"
   ]
  },
  {
   "cell_type": "code",
   "execution_count": 161,
   "metadata": {},
   "outputs": [],
   "source": [
    "start_date = \"2010-01-01\"\n",
    "end_date = \"2021-10-31\"\n",
    "all_years_url_history = f\"https://api.nomics.com/v1/market-cap/history?key={nomics_key}&start={start_date}T00%3A00%3A00Z&end={end_date}T00%3A00%3A00Z\"\n",
    "\n",
    "# text file to hold the data\n",
    "all_years_all_data_file = open('all_years_all_data_file.txt', 'w')\n",
    "all_years_timestamp_file = open('all_years_timestamp_file.txt', 'w')\n",
    "all_years_market_cap_file = open('all_years_market_cap_file.txt', 'w')\n",
    "\n",
    "\n",
    "\n"
   ]
  },
  {
   "cell_type": "code",
   "execution_count": 162,
   "metadata": {},
   "outputs": [
    {
     "name": "stdout",
     "output_type": "stream",
     "text": [
      "3701\n"
     ]
    }
   ],
   "source": [
    "\n",
    "\n",
    "# link for history\n",
    "all_years_url_history\n",
    "\n",
    "# recieve link and convert raw data to json\n",
    "response = requests.get(all_years_url_history).json()\n",
    "\n",
    "# find out how many dicts are in the list\n",
    "number_of_dicts = len(response)\n",
    "print(number_of_dicts)\n",
    "\n",
    "# lists of list\n",
    "all_years_timestamp = []\n",
    "all_years_market_cap = []\n",
    "\n",
    "# we want to go each list... since we are doing by numbers, we will do the range of 0 to the amount in the url\n",
    "number_of_dicts = list(range(0, number_of_dicts))\n",
    "\n",
    "# for loop: x is going to become number_of_dicts each time...0, once it goes through the code then x changes to 1, repeat etc.\n",
    "for x in number_of_dicts:\n",
    "    all_years_string = response[x]['timestamp']\n",
    "    new_timestamp_String = all_years_string.replace('T00:00:00Z', '')\n",
    "    all_years_timestamp.append(new_timestamp_String)\n",
    "    \n",
    "    \n",
    "    all_years_market_cap.append(response[x]['market_cap'])\n",
    "    market_cap_string = response[x]['market_cap']\n",
    "\n",
    "    all_years_all_data_file.write(f\"{new_timestamp_String}, {market_cap_string}\\n\")\n",
    "    all_years_timestamp_file.write(f\"{new_timestamp_String}\\n\")\n",
    "    all_years_market_cap_file.write(f\"{market_cap_string}\\n\")\n",
    "\n",
    "all_years_all_data_file.close()\n",
    "all_years_timestamp_file.close()\n",
    "all_years_market_cap_file.close()\n"
   ]
  },
  {
   "cell_type": "markdown",
   "metadata": {},
   "source": [
    "#### Market Url"
   ]
  },
  {
   "cell_type": "code",
   "execution_count": 163,
   "metadata": {},
   "outputs": [],
   "source": [
    "url_3 = f\"https://api.nomics.com/v1/markets?key={nomics_key}\"\n",
    "url_4 = f\"https://api.nomics.com/v1/markets?key={nomics_key}&quote-currency=USD&convert=USD&per-page=100&page=1\""
   ]
  },
  {
   "cell_type": "markdown",
   "metadata": {},
   "source": [
    "#### Currencies Url"
   ]
  },
  {
   "cell_type": "code",
   "execution_count": 164,
   "metadata": {},
   "outputs": [],
   "source": [
    "# Website url for api_key tools: https://nomics.com/docs/\n",
    "# steps for help: https://github.com/TaylorFacen/nomics-python\n",
    "# Currencie Codes: https://nomics.com/docs/#operation/getCurrenciesTicker\n",
    "\n",
    "url = f\"https://api.nomics.com/v1/?key={nomics_key}\"\n",
    "url_2 = f\"https://api.nomics.com/v1/currencies/ticker?key={nomics_key}&ids=BTC,ETH,XRP,REN&interval=1d,30d&convert=EUR&per-page=100&page=1\"\n",
    "\n",
    "url = f\"https://api.nomics.com/v1/currencies/ticker?key={nomics_key}&ids=BTC\"\n",
    "\n"
   ]
  },
  {
   "cell_type": "markdown",
   "metadata": {},
   "source": [
    "#### Link's Url"
   ]
  },
  {
   "cell_type": "code",
   "execution_count": 165,
   "metadata": {},
   "outputs": [
    {
     "name": "stdout",
     "output_type": "stream",
     "text": [
      " -  -  -  -  -  -  -  -  -  - \n",
      "Url's are below...\n"
     ]
    }
   ],
   "source": [
    "\n",
    "print(\" - \" * 10)\n",
    "print(\"Url's are below...\")\n",
    "# print(\"\")\n",
    "# print(f\"https://api.nomics.com/v1/currencies/ticker?key={nomics_key}&ids=BTC,ETH,XRP&interval=1d,30d&convert=EUR&per-page=100&page=1\")\n",
    "# print(\"\")\n",
    "# print(f\"Here is a link of the full market of nomics: https://api.nomics.com/v1/markets?key={nomics_key}\")\n",
    "# print(\"\")\n",
    "# print(f'Here is a link of the market of Converted US, Active nomics: https://api.nomics.com/v1/markets?key={nomics_key}&convert=USD&\"active\"&per-page=10')\n",
    "# print(\"\")\n",
    "# print(f'Here is a link of the History example nomics: https://api.nomics.com/v1/market-cap/history?key={nomics_key}&start=2018-04-14T00%3A00%3A00Z&end=2018-05-14T00%3A00%3A00Z')\n",
    "# print(\"\")\n",
    "# print(f'Here is a link of the History example nomics: https://api.nomics.com/v1/market-cap/history?key={nomics_key}&start=2020-01-01T00%3A00%3A00Z&end=2020-02-01T00%3A00%3A00Z')\n",
    "\n",
    "\n",
    "\n"
   ]
  },
  {
   "cell_type": "code",
   "execution_count": 166,
   "metadata": {},
   "outputs": [],
   "source": [
    "# print(urllib.request.urlopen(url_2).read())"
   ]
  },
  {
   "cell_type": "code",
   "execution_count": 167,
   "metadata": {},
   "outputs": [],
   "source": [
    "# print(urllib.request.urlopen(url_4).read(2000))"
   ]
  },
  {
   "cell_type": "markdown",
   "metadata": {},
   "source": [
    "### Exchange Rates API"
   ]
  },
  {
   "cell_type": "code",
   "execution_count": null,
   "metadata": {},
   "outputs": [],
   "source": [
    "url_exchange_rates = 'http://api.exchangeratesapi.io/v1/'\n",
    "\n",
    "url_history_example = f'http://api.exchangeratesapi.io/v1/2013-03-16?access_key={exchange_rates_api_key}&symbols=USD,AUD,CAD,PLN,MXN&format=1'\n",
    "\n",
    "print(url_history_example)"
   ]
  },
  {
   "cell_type": "markdown",
   "metadata": {},
   "source": [
    "### Main Code"
   ]
  },
  {
   "cell_type": "code",
   "execution_count": null,
   "metadata": {},
   "outputs": [],
   "source": []
  }
 ],
 "metadata": {
  "interpreter": {
   "hash": "54e022fdd03f6a2018709c75554f810e23f9e40ccca3b075875a360adcb05270"
  },
  "kernelspec": {
   "display_name": "Python [conda env:PythonData]",
   "language": "python",
   "name": "python3"
  },
  "language_info": {
   "codemirror_mode": {
    "name": "ipython",
    "version": 3
   },
   "file_extension": ".py",
   "mimetype": "text/x-python",
   "name": "python",
   "nbconvert_exporter": "python",
   "pygments_lexer": "ipython3",
   "version": "3.6.10"
  }
 },
 "nbformat": 4,
 "nbformat_minor": 4
}
