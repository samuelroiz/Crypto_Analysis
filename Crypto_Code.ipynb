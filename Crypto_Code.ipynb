{
 "cells": [
  {
   "cell_type": "code",
   "execution_count": 1,
   "metadata": {},
   "outputs": [],
   "source": [
    "# Dependencies\n",
    "from census import Census\n",
    "# from config import (census_key, gkey, api_key)\n",
    "from config import (poly_key, nomics_key)\n",
    "import gmaps\n",
    "import numpy as np\n",
    "import pandas as pd\n",
    "import requests\n",
    "import json\n",
    "import time\n",
    "from scipy.stats import linregress\n",
    "from matplotlib import pyplot as plt\n",
    "import urllib.request"
   ]
  },
  {
   "cell_type": "markdown",
   "metadata": {},
   "source": [
    "### Polygon"
   ]
  },
  {
   "cell_type": "code",
   "execution_count": 2,
   "metadata": {},
   "outputs": [],
   "source": [
    "# Website url for api_key tools: https://polygon.io/docs/get_v3_reference_tickers_anchor\n",
    "# https://github.com/polygon-io/client-python example\n",
    "\n",
    "# url = f\"https://api.polygon.io/v2/aggs/ticker/AAPL/range/1/day/2020-06-01/2020-06-17?\n",
    "# query_url = url + \"apiKey=\" + poly_key + \"&q=\" + city\n",
    "\n",
    "# # Get polygon data\n",
    "# weather_response = requests.get(query_url)\n",
    "# weather_json = weather_response.json()\n",
    "\n",
    "# # Get the crypto from the response\n",
    "# print(f\"The crypto API responded with: {weather_json}.\")"
   ]
  },
  {
   "cell_type": "markdown",
   "metadata": {},
   "source": [
    "### Nomics"
   ]
  },
  {
   "cell_type": "markdown",
   "metadata": {},
   "source": [
    "#### History Url"
   ]
  },
  {
   "cell_type": "code",
   "execution_count": 30,
   "metadata": {},
   "outputs": [],
   "source": [
    "url_history_example = \"https://api.nomics.com/v1/market-cap/history?key={nomics_key}&start=2018-04-14T00%3A00%3A00Z&end=2018-05-14T00%3A00%3A00Z\"\n",
    "url_history_2021 = \"https://api.nomics.com/v1/market-cap/history?key={nomics_key}&start=2020-01-01T00%3A00%3A00Z&end=2020-02-01T00%3A00%3A00Z\"\n"
   ]
  },
  {
   "cell_type": "markdown",
   "metadata": {},
   "source": [
    "#### Market Url"
   ]
  },
  {
   "cell_type": "code",
   "execution_count": null,
   "metadata": {},
   "outputs": [],
   "source": [
    "url_3 = f\"https://api.nomics.com/v1/markets?key={nomics_key}\"\n",
    "url_4 = f\"https://api.nomics.com/v1/markets?key={nomics_key}&quote-currency=USD&convert=USD&per-page=100&page=1\""
   ]
  },
  {
   "cell_type": "markdown",
   "metadata": {},
   "source": [
    "#### Currencies Url"
   ]
  },
  {
   "cell_type": "code",
   "execution_count": 26,
   "metadata": {},
   "outputs": [
    {
     "name": "stdout",
     "output_type": "stream",
     "text": [
      " -  -  -  -  -  -  -  -  -  - \n",
      "\n",
      "https://api.nomics.com/v1/currencies/ticker?key=6b04b40a48013819580bd1378033c2736fca4443&ids=BTC,ETH,XRP&interval=1d,30d&convert=EUR&per-page=100&page=1\n",
      "\n",
      "Here is a link of the full market of nomics: https://api.nomics.com/v1/markets?key=6b04b40a48013819580bd1378033c2736fca4443\n",
      "\n",
      "Here is a link of the market of US nomics: https://api.nomics.com/v1/markets?key=6b04b40a48013819580bd1378033c2736fca4443&convert=USD&\"active\"&per-page=10\n",
      "\n"
     ]
    }
   ],
   "source": [
    "# Website url for api_key tools: https://nomics.com/docs/\n",
    "# steps for help: https://github.com/TaylorFacen/nomics-python\n",
    "# Currencie Codes: https://nomics.com/docs/#operation/getCurrenciesTicker\n",
    "\n",
    "url = f\"https://api.nomics.com/v1/?key={nomics_key}\"\n",
    "url_2 = f\"https://api.nomics.com/v1/currencies/ticker?key={nomics_key}&ids=BTC,ETH,XRP&interval=1d,30d&convert=EUR&per-page=100&page=1\"\n"
   ]
  },
  {
   "cell_type": "markdown",
   "metadata": {},
   "source": [
    "#### Link's Url"
   ]
  },
  {
   "cell_type": "code",
   "execution_count": 31,
   "metadata": {},
   "outputs": [
    {
     "name": "stdout",
     "output_type": "stream",
     "text": [
      " -  -  -  -  -  -  -  -  -  - \n",
      "\n",
      "https://api.nomics.com/v1/currencies/ticker?key=6b04b40a48013819580bd1378033c2736fca4443&ids=BTC,ETH,XRP&interval=1d,30d&convert=EUR&per-page=100&page=1\n",
      "\n",
      "Here is a link of the full market of nomics: https://api.nomics.com/v1/markets?key=6b04b40a48013819580bd1378033c2736fca4443\n",
      "\n",
      "Here is a link of the market of Converted US, Active nomics: https://api.nomics.com/v1/markets?key=6b04b40a48013819580bd1378033c2736fca4443&convert=USD&\"active\"&per-page=10\n",
      "\n",
      "Here is a link of the History example nomics: https://api.nomics.com/v1/market-cap/history?key=6b04b40a48013819580bd1378033c2736fca4443&start=2018-04-14T00%3A00%3A00Z&end=2018-05-14T00%3A00%3A00Z\n",
      "\n",
      "Here is a link of the History example nomics: https://api.nomics.com/v1/market-cap/history?key=6b04b40a48013819580bd1378033c2736fca4443&start=2020-01-01T00%3A00%3A00Z&end=2020-02-01T00%3A00%3A00Z\n"
     ]
    }
   ],
   "source": [
    "\n",
    "print(\" - \" * 10)\n",
    "print(\"\")\n",
    "print(f\"https://api.nomics.com/v1/currencies/ticker?key={nomics_key}&ids=BTC,ETH,XRP&interval=1d,30d&convert=EUR&per-page=100&page=1\")\n",
    "print(\"\")\n",
    "print(f\"Here is a link of the full market of nomics: https://api.nomics.com/v1/markets?key={nomics_key}\")\n",
    "print(\"\")\n",
    "print(f'Here is a link of the market of Converted US, Active nomics: https://api.nomics.com/v1/markets?key={nomics_key}&convert=USD&\"active\"&per-page=10')\n",
    "print(\"\")\n",
    "print(f'Here is a link of the History example nomics: https://api.nomics.com/v1/market-cap/history?key={nomics_key}&start=2018-04-14T00%3A00%3A00Z&end=2018-05-14T00%3A00%3A00Z')\n",
    "print(\"\")\n",
    "print(f'Here is a link of the History example nomics: https://api.nomics.com/v1/market-cap/history?key={nomics_key}&start=2020-01-01T00%3A00%3A00Z&end=2020-02-01T00%3A00%3A00Z')\n",
    "\n",
    "\n",
    "\n"
   ]
  },
  {
   "cell_type": "code",
   "execution_count": 16,
   "metadata": {},
   "outputs": [
    {
     "name": "stdout",
     "output_type": "stream",
     "text": [
      "b'[{\"id\":\"BTC\",\"currency\":\"BTC\",\"symbol\":\"BTC\",\"name\":\"Bitcoin\",\"logo_url\":\"https://s3.us-east-2.amazonaws.com/nomics-api/static/images/currencies/btc.svg\",\"status\":\"active\",\"price\":\"56524.59134767\",\"price_date\":\"2021-11-11T00:00:00Z\",\"price_timestamp\":\"2021-11-11T05:20:00Z\",\"circulating_supply\":\"18869793\",\"max_supply\":\"21000000\",\"market_cap\":\"1066607338140\",\"market_cap_dominance\":\"0.4159\",\"num_exchanges\":\"399\",\"num_pairs\":\"72850\",\"num_pairs_unmapped\":\"5446\",\"first_candle\":\"2011-08-18T00:00:00Z\",\"first_trade\":\"2011-08-18T00:00:00Z\",\"first_order_book\":\"2017-01-06T00:00:00Z\",\"rank\":\"1\",\"rank_delta\":\"0\",\"high\":\"58436.74478929\",\"high_timestamp\":\"2021-11-08T00:00:00Z\",\"1d\":{\"volume\":\"57338932725.70\",\"price_change\":\"-791.61209467\",\"price_change_pct\":\"-0.0138\",\"volume_change\":\"17917355572.46\",\"volume_change_pct\":\"0.4545\",\"market_cap_change\":\"-14886372992.95\",\"market_cap_change_pct\":\"-0.0138\"},\"30d\":{\"volume\":\"1256869079541.58\",\"price_change\":\"7911.80301180\",\"price_change_pct\":\"0.1628\",\"volume_change\":\"-20388593012.63\",\"volume_change_pct\":\"-0.0160\",\"market_cap_change\":\"150674979954.84\",\"market_cap_change_pct\":\"0.1645\"}},{\"id\":\"ETH\",\"currency\":\"ETH\",\"symbol\":\"ETH\",\"name\":\"Ethereum\",\"logo_url\":\"https://s3.us-east-2.amazonaws.com/nomics-api/static/images/currencies/eth.svg\",\"status\":\"active\",\"platform_currency\":\"ETH\",\"price\":\"4055.68699783\",\"price_date\":\"2021-11-11T00:00:00Z\",\"price_timestamp\":\"2021-11-11T05:20:00Z\",\"circulating_supply\":\"118294178\",\"market_cap\":\"479764158615\",\"market_cap_dominance\":\"0.1871\",\"num_exchanges\":\"430\",\"num_pairs\":\"61292\",\"num_pairs_unmapped\":\"51852\",\"first_candle\":\"2015-08-07T00:00:00Z\",\"first_trade\":\"2015-08-07T00:00:00Z\",\"first_order_book\":\"2018-08-29T00:00:00Z\",\"rank\":\"2\",\"rank_delta\":\"0\",\"high\":\"4158.72193424\",\"high_timestamp\":\"2021-11-08T00:00:00Z\",\"1d\":{\"volume\":\"33725130716.55\",\"price_change\":\"-3.95621139\",\"price_change_pct\":\"-0.0010\",\"volume_change\":\"9619416719.59\",\"volume_change_pct\":\"0.3991\",\"market_cap_change\":\"-412863520.67\",\"market_cap_change_pct\":\"-0.0009\"},\"30d\":{\"volume\":\"780473206769.58\",\"price_change\":\"1025.76940141\",\"price_change_pct\":\"0.3385\",\"volume_change\":\"-121408952922.36\",\"volume_change_pct\":\"-0.1346\",\"market_cap_change\":\"122560443540.55\",\"market_cap_change_pct\":\"0.3431\"}},{\"id\":\"XRP\",\"currency\":\"XRP\",\"symbol\":\"XRP\",\"name\":\"XRP\",\"logo_url\":\"https://s3.us-east-2.amazonaws.com/nomics-api/static/images/currencies/XRP.svg\",\"status\":\"active\",\"price\":\"1.06249451\",\"price_date\":\"2021-11-11T00:00:00Z\",\"price_timestamp\":\"2021-11-11T05:20:00Z\",\"circulating_supply\":\"47081679946\",\"max_supply\":\"100000000000\",\"market_cap\":\"50024026258\",\"market_cap_dominance\":\"0.0195\",\"num_exchanges\":\"264\",\"num_pairs\":\"1904\",\"num_pairs_unmapped\":\"73\",\"first_candle\":\"2013-05-09T00:00:00Z\",\"first_trade\":\"2013-05-09T00:00:00Z\",\"first_order_book\":\"2018-08-29T00:00:00Z\",\"rank\":\"7\",\"rank_delta\":\"0\",\"high\":\"2.28966108\",\"high_timestamp\":\"2018-01-07T00:00:00Z\",\"1d\":{\"volume\":\"7100643282.60\",\"price_change\":\"0.0014591666\",\"price_change_pct\":\"0.0014\",\"volume_change\":\"2834626394.66\",\"volume_change_pct\":\"0.6645\",\"market_cap_change\":\"68700016.49\",\"market_cap_change_pct\":\"0.0014\"},\"30d\":{\"volume\":\"100522074418.14\",\"price_change\":\"0.10630362\",\"price_change_pct\":\"0.1112\",\"volume_change\":\"-9237881718.83\",\"volume_change_pct\":\"-0.0842\",\"market_cap_change\":\"5268772191.27\",\"market_cap_change_pct\":\"0.1177\"}}]\\n'\n"
     ]
    }
   ],
   "source": [
    "print(urllib.request.urlopen(url_2).read())"
   ]
  },
  {
   "cell_type": "code",
   "execution_count": 25,
   "metadata": {},
   "outputs": [
    {
     "name": "stdout",
     "output_type": "stream",
     "text": [
      "b'[{\"exchange\":\"exx\",\"market\":\"CAN_USDT\",\"base\":\"CADN\",\"quote\":\"USDT\"},{\"exchange\":\"deribit\",\"market\":\"BTC-31JAN21-29000-C\",\"base\":\"BTC\",\"quote\":\"BTC\"},{\"exchange\":\"deribit\",\"market\":\"BTC-18NOV20-18375-C\",\"base\":\"BTC\",\"quote\":\"BTC\"},{\"exchange\":\"bitcratic\",\"market\":\"ETH_0x859a9c0\",\"base\":\"IETH2\",\"quote\":\"ETH\"},{\"exchange\":\"bitso\",\"market\":\"ltc_btc\",\"base\":\"LTC\",\"quote\":\"BTC\"},{\"exchange\":\"uniswapv3\",\"market\":\"0x387a79b14ddab98f703ed8ef48bf59b08dffe92a\",\"base\":\"USDC\",\"quote\":\"RPL\"},{\"exchange\":\"bw\",\"market\":\"cspr_usdt\",\"base\":\"CSPR\",\"quote\":\"USDT\"},{\"exchange\":\"bisq\",\"market\":\"BTC_XPF\",\"base\":\"BTC\",\"quote\":\"XPF\"},{\"exchange\":\"delta_futures\",\"market\":\"C-BTC-45000-070521\",\"base\":\"BTC\",\"quote\":\"USDT\"},{\"exchange\":\"pancakeswapv2\",\"market\":\"0xe647eab8ebf3ccceffeaf94235b19b15ea15e30a\",\"base\":\"MMATIC\",\"quote\":\"BNB\"},{\"exchange\":\"bitso\",\"market\":\"ltc_mxn\",\"base\":\"LTC\",\"quote\":\"MXN\"},{\"exchange\":\"bitso\",\"market\":\"bch_btc\",\"base\":\"BCH\",\"quote\":\"BTC\"},{\"exchange\":\"bitso\",\"market\":\"bch_mxn\",\"base\":\"BCH\",\"quote\":\"MXN\"},{\"exchange\":\"bitso\",\"market\":\"tusd_btc\",\"base\":\"TUSD\",\"quote\":\"BTC\"},{\"exchange\":\"bitso\",\"market\":\"tusd_mxn\",\"base\":\"TUSD\",\"quote\":\"MXN\"},{\"exchange\":\"mxc\",\"market\":\"LPT_USDT\",\"base\":\"LPT\",\"quote\":\"USDT\"},{\"exchange\":\"mxc\",\"market\":\"CWS_USDT\",\"base\":\"CWS\",\"quote\":\"USDT\"},{\"exchange\":\"mxc\",\"market\":\"WBTC_USDT\",\"base\":\"WBTC\",\"quote\":\"USDT\"},{\"exchange\":\"deribit\",\"market\":\"BTC-22DEC20-23000-C\",\"base\":\"BTC\",\"quote\":\"BTC\"},{\"exchange\":\"delta_futures\",\"market\":\"C-BNB-D-140121\",\"base\":\"BNB\",\"quote\":\"USDT\"},{\"exchange\":\"delta_futures\",\"market\":\"C-BNB-D-280121\",\"base\":\"BNB\",\"quote\":\"USDT\"},{\"exchange\":\"chainex\",\"market\":\"DOT_BTC\",\"base\":\"DOT\",\"quote\":\"BTC\"},{\"exchange\":\"chainex\",\"market\":\"DOT_ZAR\",\"base\":\"DOT\",\"quote\":\"ZAR\"},{\"exchange\":\"chainex\",\"market\":\"ELCASH_BTC\",\"base\":\"ELCASH\",\"quote\":\"BTC\"},{\"exchange\":\"delta_futures\",\"market\":\"C-BCH-D-110321\",\"base\":\"BCH\",\"quote\":\"USDT\"},{\"exchange\":\"chainex\",\"market\":\"ELCASH_ZAR\",\"base\":\"ELCASH\",\"quote\":\"ZAR\"},{\"exchange\":\"bhex\",\"ma'\n"
     ]
    }
   ],
   "source": [
    "print(urllib.request.urlopen(url_4).read(2000))"
   ]
  },
  {
   "cell_type": "markdown",
   "metadata": {},
   "source": [
    "### Main Code"
   ]
  },
  {
   "cell_type": "code",
   "execution_count": 4,
   "metadata": {},
   "outputs": [
    {
     "name": "stdout",
     "output_type": "stream",
     "text": [
      "Welcome, this is our project! We will be talking about crypto!\n"
     ]
    }
   ],
   "source": [
    "crypto_intro = 'Welcome, this is our project! We will be talking about crypto!'\n",
    "print(f\"{crypto_intro}\")"
   ]
  },
  {
   "cell_type": "code",
   "execution_count": null,
   "metadata": {},
   "outputs": [],
   "source": []
  }
 ],
 "metadata": {
  "interpreter": {
   "hash": "54e022fdd03f6a2018709c75554f810e23f9e40ccca3b075875a360adcb05270"
  },
  "kernelspec": {
   "display_name": "Python [conda env:PythonData]",
   "language": "python",
   "name": "python3"
  },
  "language_info": {
   "codemirror_mode": {
    "name": "ipython",
    "version": 3
   },
   "file_extension": ".py",
   "mimetype": "text/x-python",
   "name": "python",
   "nbconvert_exporter": "python",
   "pygments_lexer": "ipython3",
   "version": "3.6.10"
  }
 },
 "nbformat": 4,
 "nbformat_minor": 4
}
